{
 "cells": [
  {
   "cell_type": "markdown",
   "metadata": {
    "collapsed": true,
    "deletable": true,
    "editable": true
   },
   "source": [
    "# Image Classification\n",
    "In this project, you'll classify images from the [CIFAR-10 dataset](https://www.cs.toronto.edu/~kriz/cifar.html).  The dataset consists of airplanes, dogs, cats, and other objects. You'll preprocess the images, then train a convolutional neural network on all the samples. The images need to be normalized and the labels need to be one-hot encoded.  You'll get to apply what you learned and build a convolutional, max pooling, dropout, and fully connected layers.  At the end, you'll get to see your neural network's predictions on the sample images.\n",
    "## Get the Data\n",
    "Run the following cell to download the [CIFAR-10 dataset for python](https://www.cs.toronto.edu/~kriz/cifar-10-python.tar.gz)."
   ]
  },
  {
   "cell_type": "code",
   "execution_count": 37,
   "metadata": {
    "collapsed": false,
    "deletable": true,
    "editable": true
   },
   "outputs": [
    {
     "name": "stderr",
     "output_type": "stream",
     "text": [
      "CIFAR-10 Dataset: 171MB [00:26, 6.40MB/s]                              \n"
     ]
    },
    {
     "name": "stdout",
     "output_type": "stream",
     "text": [
      "All files found!\n"
     ]
    }
   ],
   "source": [
    "\"\"\"\n",
    "DON'T MODIFY ANYTHING IN THIS CELL THAT IS BELOW THIS LINE\n",
    "\"\"\"\n",
    "from urllib.request import urlretrieve\n",
    "from os.path import isfile, isdir\n",
    "from tqdm import tqdm\n",
    "import problem_unittests as tests\n",
    "import tarfile\n",
    "\n",
    "cifar10_dataset_folder_path = 'cifar-10-batches-py'\n",
    "\n",
    "# Use Floyd's cifar-10 dataset if present\n",
    "floyd_cifar10_location = '/input/cifar-10/python.tar.gz'\n",
    "if isfile(floyd_cifar10_location):\n",
    "    tar_gz_path = floyd_cifar10_location\n",
    "else:\n",
    "    tar_gz_path = 'cifar-10-python.tar.gz'\n",
    "\n",
    "class DLProgress(tqdm):\n",
    "    last_block = 0\n",
    "\n",
    "    def hook(self, block_num=1, block_size=1, total_size=None):\n",
    "        self.total = total_size\n",
    "        self.update((block_num - self.last_block) * block_size)\n",
    "        self.last_block = block_num\n",
    "\n",
    "if not isfile(tar_gz_path):\n",
    "    with DLProgress(unit='B', unit_scale=True, miniters=1, desc='CIFAR-10 Dataset') as pbar:\n",
    "        urlretrieve(\n",
    "            'https://www.cs.toronto.edu/~kriz/cifar-10-python.tar.gz',\n",
    "            tar_gz_path,\n",
    "            pbar.hook)\n",
    "\n",
    "if not isdir(cifar10_dataset_folder_path):\n",
    "    with tarfile.open(tar_gz_path) as tar:\n",
    "        tar.extractall()\n",
    "        tar.close()\n",
    "\n",
    "\n",
    "tests.test_folder_path(cifar10_dataset_folder_path)"
   ]
  },
  {
   "cell_type": "markdown",
   "metadata": {
    "deletable": true,
    "editable": true
   },
   "source": [
    "## Explore the Data\n",
    "The dataset is broken into batches to prevent your machine from running out of memory.  The CIFAR-10 dataset consists of 5 batches, named `data_batch_1`, `data_batch_2`, etc.. Each batch contains the labels and images that are one of the following:\n",
    "* airplane\n",
    "* automobile\n",
    "* bird\n",
    "* cat\n",
    "* deer\n",
    "* dog\n",
    "* frog\n",
    "* horse\n",
    "* ship\n",
    "* truck\n",
    "\n",
    "Understanding a dataset is part of making predictions on the data.  Play around with the code cell below by changing the `batch_id` and `sample_id`. The `batch_id` is the id for a batch (1-5). The `sample_id` is the id for a image and label pair in the batch.\n",
    "\n",
    "Ask yourself \"What are all possible labels?\", \"What is the range of values for the image data?\", \"Are the labels in order or random?\".  Answers to questions like these will help you preprocess the data and end up with better predictions."
   ]
  },
  {
   "cell_type": "code",
   "execution_count": 38,
   "metadata": {
    "collapsed": false,
    "deletable": true,
    "editable": true
   },
   "outputs": [
    {
     "name": "stdout",
     "output_type": "stream",
     "text": [
      "\n",
      "Stats of batch 1:\n",
      "Samples: 10000\n",
      "Label Counts: {0: 1005, 1: 974, 2: 1032, 3: 1016, 4: 999, 5: 937, 6: 1030, 7: 1001, 8: 1025, 9: 981}\n",
      "First 20 Labels: [6, 9, 9, 4, 1, 1, 2, 7, 8, 3, 4, 7, 7, 2, 9, 9, 9, 3, 2, 6]\n",
      "\n",
      "Example of Image 7:\n",
      "Image - Min Value: 9 Max Value: 248\n",
      "Image - Shape: (32, 32, 3)\n",
      "Label - Label Id: 7 Name: horse\n"
     ]
    },
    {
     "data": {
      "image/png": "[encoded data removed]",
      "text/plain": [
       "<matplotlib.figure.Figure at 0x1064660b8>"
      ]
     },
     "metadata": {
      "image/png": {
       "height": 250,
       "width": 253
      }
     },
     "output_type": "display_data"
    }
   ],
   "source": [
    "%matplotlib inline\n",
    "%config InlineBackend.figure_format = 'retina'\n",
    "\n",
    "import helper\n",
    "import numpy as np\n",
    "\n",
    "# Explore the dataset\n",
    "batch_id = 1\n",
    "sample_id = 7\n",
    "\n",
    "helper.display_stats(cifar10_dataset_folder_path, batch_id, sample_id)"
   ]
  },
  {
   "cell_type": "markdown",
   "metadata": {
    "deletable": true,
    "editable": true
   },
   "source": [
    "## Implement Preprocess Functions\n",
    "### Normalize\n",
    "In the cell below, implement the `normalize` function to take in image data, `x`, and return it as a normalized Numpy array. The values should be in the range of 0 to 1, inclusive.  The return object should be the same shape as `x`."
   ]
  },
  {
   "cell_type": "code",
   "execution_count": 39,
   "metadata": {
    "collapsed": false,
    "deletable": true,
    "editable": true
   },
   "outputs": [
    {
     "name": "stdout",
     "output_type": "stream",
     "text": [
      "Tests Passed\n"
     ]
    }
   ],
   "source": [
    "def normalize(x):\n",
    "    \"\"\"\n",
    "    Normalize a list of sample image data in the range of 0 to 1\n",
    "    : x: List of image data.  The image shape is (32, 32, 3)\n",
    "    : return: Numpy array of normalize data\n",
    "    \"\"\"\n",
    "    # TODO: Implement Function\n",
    "    return x/255\n",
    "\n",
    "\n",
    "\"\"\"\n",
    "DON'T MODIFY ANYTHING IN THIS CELL THAT IS BELOW THIS LINE\n",
    "\"\"\"\n",
    "tests.test_normalize(normalize)"
   ]
  },
  {
   "cell_type": "markdown",
   "metadata": {
    "deletable": true,
    "editable": true
   },
   "source": [
    "### One-hot encode\n",
    "Just like the previous code cell, you'll be implementing a function for preprocessing.  This time, you'll implement the `one_hot_encode` function. The input, `x`, are a list of labels.  Implement the function to return the list of labels as One-Hot encoded Numpy array.  The possible values for labels are 0 to 9. The one-hot encoding function should return the same encoding for each value between each call to `one_hot_encode`.  Make sure to save the map of encodings outside the function.\n",
    "\n",
    "Hint: Don't reinvent the wheel."
   ]
  },
  {
   "cell_type": "code",
   "execution_count": 40,
   "metadata": {
    "collapsed": false,
    "deletable": true,
    "editable": true
   },
   "outputs": [
    {
     "name": "stdout",
     "output_type": "stream",
     "text": [
      "Tests Passed\n"
     ]
    }
   ],
   "source": [
    "def one_hot_encode(x):\n",
    "    \"\"\"\n",
    "    One hot encode a list of sample labels. Return a one-hot encoded vector for each label.\n",
    "    : x: List of sample Labels\n",
    "    : return: Numpy array of one-hot encoded labels\n",
    "    \"\"\"\n",
    "    # TODO: Implement Function\n",
    "    arr = np.zeros((len(x),10))\n",
    "    for index, item in enumerate(x):\n",
    "        arr[index][item]= 1\n",
    "\n",
    "    return arr\n",
    "\n",
    "\n",
    "\"\"\"\n",
    "DON'T MODIFY ANYTHING IN THIS CELL THAT IS BELOW THIS LINE\n",
    "\"\"\"\n",
    "tests.test_one_hot_encode(one_hot_encode)"
   ]
  },
  {
   "cell_type": "markdown",
   "metadata": {
    "deletable": true,
    "editable": true
   },
   "source": [
    "### Randomize Data\n",
    "As you saw from exploring the data above, the order of the samples are randomized.  It doesn't hurt to randomize it again, but you don't need to for this dataset."
   ]
  },
  {
   "cell_type": "markdown",
   "metadata": {
    "deletable": true,
    "editable": true
   },
   "source": [
    "## Preprocess all the data and save it\n",
    "Running the code cell below will preprocess all the CIFAR-10 data and save it to file. The code below also uses 10% of the training data for validation."
   ]
  },
  {
   "cell_type": "code",
   "execution_count": 41,
   "metadata": {
    "collapsed": false,
    "deletable": true,
    "editable": true
   },
   "outputs": [],
   "source": [
    "\"\"\"\n",
    "DON'T MODIFY ANYTHING IN THIS CELL\n",
    "\"\"\"\n",
    "# Preprocess Training, Validation, and Testing Data\n",
    "helper.preprocess_and_save_data(cifar10_dataset_folder_path, normalize, one_hot_encode)"
   ]
  },
  {
   "cell_type": "markdown",
   "metadata": {
    "deletable": true,
    "editable": true
   },
   "source": [
    "# Check Point\n",
    "This is your first checkpoint.  If you ever decide to come back to this notebook or have to restart the notebook, you can start from here.  The preprocessed data has been saved to disk."
   ]
  },
  {
   "cell_type": "code",
   "execution_count": 42,
   "metadata": {
    "collapsed": true,
    "deletable": true,
    "editable": true
   },
   "outputs": [],
   "source": [
    "\"\"\"\n",
    "DON'T MODIFY ANYTHING IN THIS CELL\n",
    "\"\"\"\n",
    "import pickle\n",
    "import problem_unittests as tests\n",
    "import helper\n",
    "\n",
    "# Load the Preprocessed Validation data\n",
    "valid_features, valid_labels = pickle.load(open('preprocess_validation.p', mode='rb'))"
   ]
  },
  {
   "cell_type": "markdown",
   "metadata": {
    "deletable": true,
    "editable": true
   },
   "source": [
    "## Build the network\n",
    "For the neural network, you'll build each layer into a function.  Most of the code you've seen has been outside of functions. To test your code more thoroughly, we require that you put each layer in a function.  This allows us to give you better feedback and test for simple mistakes using our unittests before you submit your project.\n",
    "\n",
    ">**Note:** If you're finding it hard to dedicate enough time for this course each week, we've provided a small shortcut to this part of the project. In the next couple of problems, you'll have the option to use classes from the [TensorFlow Layers](https://www.tensorflow.org/api_docs/python/tf/layers) or [TensorFlow Layers (contrib)](https://www.tensorflow.org/api_guides/python/contrib.layers) packages to build each layer, except the layers you build in the \"Convolutional and Max Pooling Layer\" section.  TF Layers is similar to Keras's and TFLearn's abstraction to layers, so it's easy to pickup.\n",
    "\n",
    ">However, if you would like to get the most out of this course, try to solve all the problems _without_ using anything from the TF Layers packages. You **can** still use classes from other packages that happen to have the same name as ones you find in TF Layers! For example, instead of using the TF Layers version of the `conv2d` class, [tf.layers.conv2d](https://www.tensorflow.org/api_docs/python/tf/layers/conv2d), you would want to use the TF Neural Network version of `conv2d`, [tf.nn.conv2d](https://www.tensorflow.org/api_docs/python/tf/nn/conv2d). \n",
    "\n",
    "Let's begin!\n",
    "\n",
    "### Input\n",
    "The neural network needs to read the image data, one-hot encoded labels, and dropout keep probability. Implement the following functions\n",
    "* Implement `neural_net_image_input`\n",
    " * Return a [TF Placeholder](https://www.tensorflow.org/api_docs/python/tf/placeholder)\n",
    " * Set the shape using `image_shape` with batch size set to `None`.\n",
    " * Name the TensorFlow placeholder \"x\" using the TensorFlow `name` parameter in the [TF Placeholder](https://www.tensorflow.org/api_docs/python/tf/placeholder).\n",
    "* Implement `neural_net_label_input`\n",
    " * Return a [TF Placeholder](https://www.tensorflow.org/api_docs/python/tf/placeholder)\n",
    " * Set the shape using `n_classes` with batch size set to `None`.\n",
    " * Name the TensorFlow placeholder \"y\" using the TensorFlow `name` parameter in the [TF Placeholder](https://www.tensorflow.org/api_docs/python/tf/placeholder).\n",
    "* Implement `neural_net_keep_prob_input`\n",
    " * Return a [TF Placeholder](https://www.tensorflow.org/api_docs/python/tf/placeholder) for dropout keep probability.\n",
    " * Name the TensorFlow placeholder \"keep_prob\" using the TensorFlow `name` parameter in the [TF Placeholder](https://www.tensorflow.org/api_docs/python/tf/placeholder).\n",
    "\n",
    "These names will be used at the end of the project to load your saved model.\n",
    "\n",
    "Note: `None` for shapes in TensorFlow allow for a dynamic size."
   ]
  },
  {
   "cell_type": "code",
   "execution_count": 43,
   "metadata": {
    "collapsed": false,
    "deletable": true,
    "editable": true
   },
   "outputs": [
    {
     "name": "stdout",
     "output_type": "stream",
     "text": [
      "Image Input Tests Passed.\n",
      "Label Input Tests Passed.\n",
      "Keep Prob Tests Passed.\n"
     ]
    }
   ],
   "source": [
    "import tensorflow as tf\n",
    "\n",
    "def neural_net_image_input(image_shape):\n",
    "    \"\"\"\n",
    "    Return a Tensor for a batch of image input\n",
    "    : image_shape: Shape of the images\n",
    "    : return: Tensor for image input.\n",
    "    \"\"\"\n",
    "    # TODO: Implement Function\n",
    "    x= tf.placeholder(tf.float32, [None, *image_shape], name = 'x')\n",
    "    return x\n",
    "\n",
    "\n",
    "def neural_net_label_input(n_classes):\n",
    "    \"\"\"\n",
    "    Return a Tensor for a batch of label input\n",
    "    : n_classes: Number of classes\n",
    "    : return: Tensor for label input.\n",
    "    \"\"\"\n",
    "    # TODO: Implement Function\n",
    "    y= tf.placeholder(tf.float32,shape=(None, n_classes), name = 'y')\n",
    "    return y\n",
    "\n",
    "\n",
    "def neural_net_keep_prob_input():\n",
    "    \"\"\"\n",
    "    Return a Tensor for keep probability\n",
    "    : return: Tensor for keep probability.\n",
    "    \"\"\"\n",
    "    # TODO: Implement Function\n",
    "    prob = tf.placeholder(tf.float32, name = 'keep_prob')\n",
    "    return prob\n",
    "\n",
    "\n",
    "\"\"\"\n",
    "DON'T MODIFY ANYTHING IN THIS CELL THAT IS BELOW THIS LINE\n",
    "\"\"\"\n",
    "tf.reset_default_graph()\n",
    "tests.test_nn_image_inputs(neural_net_image_input)\n",
    "tests.test_nn_label_inputs(neural_net_label_input)\n",
    "tests.test_nn_keep_prob_inputs(neural_net_keep_prob_input)"
   ]
  },
  {
   "cell_type": "markdown",
   "metadata": {
    "deletable": true,
    "editable": true
   },
   "source": [
    "### Convolution and Max Pooling Layer\n",
    "Convolution layers have a lot of success with images. For this code cell, you should implement the function `conv2d_maxpool` to apply convolution then max pooling:\n",
    "* Create the weight and bias using `conv_ksize`, `conv_num_outputs` and the shape of `x_tensor`.\n",
    "* Apply a convolution to `x_tensor` using weight and `conv_strides`.\n",
    " * We recommend you use same padding, but you're welcome to use any padding.\n",
    "* Add bias\n",
    "* Add a nonlinear activation to the convolution.\n",
    "* Apply Max Pooling using `pool_ksize` and `pool_strides`.\n",
    " * We recommend you use same padding, but you're welcome to use any padding.\n",
    "\n",
    "**Note:** You **can't** use [TensorFlow Layers](https://www.tensorflow.org/api_docs/python/tf/layers) or [TensorFlow Layers (contrib)](https://www.tensorflow.org/api_guides/python/contrib.layers) for **this** layer, but you can still use TensorFlow's [Neural Network](https://www.tensorflow.org/api_docs/python/tf/nn) package. You may still use the shortcut option for all the **other** layers."
   ]
  },
  {
   "cell_type": "code",
   "execution_count": 44,
   "metadata": {
    "collapsed": false,
    "deletable": true,
    "editable": true
   },
   "outputs": [
    {
     "name": "stdout",
     "output_type": "stream",
     "text": [
      "convksize (2, 2)\n",
      "x_tensor.get_shape()[3] (?, 32, 32, 5)\n",
      "convoutput 10\n",
      "weights  Tensor(\"Variable/read:0\", shape=(2, 2, 5, 10), dtype=float32)\n",
      "Tests Passed\n"
     ]
    }
   ],
   "source": [
    "def conv2d_maxpool(x_tensor, conv_num_outputs, conv_ksize, conv_strides, pool_ksize, pool_strides):\n",
    "    \"\"\"\n",
    "    Apply convolution then max pooling to x_tensor\n",
    "    :param x_tensor: TensorFlow Tensor\n",
    "    :param conv_num_outputs: Number of outputs for the convolutional layer\n",
    "    :param conv_ksize: kernal size 2-D Tuple for the convolutional layer\n",
    "    :param conv_strides: Stride 2-D Tuple for convolution\n",
    "    :param pool_ksize: kernal size 2-D Tuple for pool\n",
    "    :param pool_strides: Stride 2-D Tuple for pool\n",
    "    : return: A tensor that represents convolution and max pooling of x_tensor\n",
    "    \"\"\"\n",
    "    # TODO: Implement Function\n",
    "    print(\"convksize\", conv_ksize)\n",
    "    print(\"x_tensor.get_shape()[3]\", x_tensor.get_shape())\n",
    "    print(\"convoutput\", conv_num_outputs)\n",
    "    weight = tf.Variable(tf.truncated_normal([*conv_ksize, x_tensor.get_shape()[3].value, conv_num_outputs], stddev=0.1))\n",
    "    print(\"weights \", weight)\n",
    "    bias = tf.Variable(tf.zeros([conv_num_outputs]))\n",
    "    \n",
    "    conv2d_layer = tf.nn.conv2d(\n",
    "        input = x_tensor,\n",
    "        filter = weight,\n",
    "        strides = [1, *conv_strides,1],\n",
    "        padding = 'SAME',\n",
    "        )      \n",
    "    bias_add = tf.nn.bias_add(\n",
    "        conv2d_layer,\n",
    "        bias,\n",
    "        )\n",
    "    nonlin_activation=tf.nn.relu(\n",
    "    bias_add,\n",
    "        )\n",
    "    \n",
    "    max_pool_layer = tf.nn.max_pool(\n",
    "        nonlin_activation,\n",
    "        ksize=[1, *pool_ksize, 1],\n",
    "        strides=[1, *pool_strides, 1],\n",
    "        padding='SAME'\n",
    "        )\n",
    "    return max_pool_layer \n",
    "\n",
    "\n",
    "\"\"\"\n",
    "DON'T MODIFY ANYTHING IN THIS CELL THAT IS BELOW THIS LINE\n",
    "\"\"\"\n",
    "tests.test_con_pool(conv2d_maxpool)"
   ]
  },
  {
   "cell_type": "markdown",
   "metadata": {
    "deletable": true,
    "editable": true
   },
   "source": [
    "### Flatten Layer\n",
    "Implement the `flatten` function to change the dimension of `x_tensor` from a 4-D tensor to a 2-D tensor.  The output should be the shape (*Batch Size*, *Flattened Image Size*). Shortcut option: you can use classes from the [TensorFlow Layers](https://www.tensorflow.org/api_docs/python/tf/layers) or [TensorFlow Layers (contrib)](https://www.tensorflow.org/api_guides/python/contrib.layers) packages for this layer. For more of a challenge, only use other TensorFlow packages."
   ]
  },
  {
   "cell_type": "code",
   "execution_count": 45,
   "metadata": {
    "collapsed": false,
    "deletable": true,
    "editable": true
   },
   "outputs": [
    {
     "name": "stdout",
     "output_type": "stream",
     "text": [
      "Tests Passed\n"
     ]
    }
   ],
   "source": [
    "def flatten(x_tensor):\n",
    "    \"\"\"\n",
    "    Flatten x_tensor to (Batch Size, Flattened Image Size)\n",
    "    : x_tensor: A tensor of size (Batch Size, ...), where ... are the image dimensions.\n",
    "    : return: A tensor of size (Batch Size, Flattened Image Size).\n",
    "    \"\"\"\n",
    "    # TODO: Implement Function\n",
    "    return tf.contrib.layers.flatten(x_tensor)\n",
    "\n",
    "\n",
    "\"\"\"\n",
    "DON'T MODIFY ANYTHING IN THIS CELL THAT IS BELOW THIS LINE\n",
    "\"\"\"\n",
    "tests.test_flatten(flatten)"
   ]
  },
  {
   "cell_type": "markdown",
   "metadata": {
    "deletable": true,
    "editable": true
   },
   "source": [
    "### Fully-Connected Layer\n",
    "Implement the `fully_conn` function to apply a fully connected layer to `x_tensor` with the shape (*Batch Size*, *num_outputs*). Shortcut option: you can use classes from the [TensorFlow Layers](https://www.tensorflow.org/api_docs/python/tf/layers) or [TensorFlow Layers (contrib)](https://www.tensorflow.org/api_guides/python/contrib.layers) packages for this layer. For more of a challenge, only use other TensorFlow packages."
   ]
  },
  {
   "cell_type": "code",
   "execution_count": 46,
   "metadata": {
    "collapsed": false,
    "deletable": true,
    "editable": true
   },
   "outputs": [
    {
     "name": "stdout",
     "output_type": "stream",
     "text": [
      "Tests Passed\n"
     ]
    }
   ],
   "source": [
    "def fully_conn(x_tensor, num_outputs):\n",
    "    \"\"\"\n",
    "    Apply a fully connected layer to x_tensor using weight and bias\n",
    "    : x_tensor: A 2-D tensor where the first dimension is batch size.\n",
    "    : num_outputs: The number of output that the new tensor should be.\n",
    "    : return: A 2-D tensor where the second dimension is num_outputs.\n",
    "    \"\"\"\n",
    "    # TODO: Implement Function\n",
    "    return tf.contrib.layers.fully_connected(x_tensor, num_outputs,activation_fn = tf.nn.relu)\n",
    "\n",
    "\n",
    "\"\"\"\n",
    "DON'T MODIFY ANYTHING IN THIS CELL THAT IS BELOW THIS LINE\n",
    "\"\"\"\n",
    "tests.test_fully_conn(fully_conn)"
   ]
  },
  {
   "cell_type": "markdown",
   "metadata": {
    "deletable": true,
    "editable": true
   },
   "source": [
    "### Output Layer\n",
    "Implement the `output` function to apply a fully connected layer to `x_tensor` with the shape (*Batch Size*, *num_outputs*). Shortcut option: you can use classes from the [TensorFlow Layers](https://www.tensorflow.org/api_docs/python/tf/layers) or [TensorFlow Layers (contrib)](https://www.tensorflow.org/api_guides/python/contrib.layers) packages for this layer. For more of a challenge, only use other TensorFlow packages.\n",
    "\n",
    "**Note:** Activation, softmax, or cross entropy should **not** be applied to this."
   ]
  },
  {
   "cell_type": "code",
   "execution_count": 47,
   "metadata": {
    "collapsed": false,
    "deletable": true,
    "editable": true
   },
   "outputs": [
    {
     "name": "stdout",
     "output_type": "stream",
     "text": [
      "Tests Passed\n"
     ]
    }
   ],
   "source": [
    "def output(x_tensor, num_outputs):\n",
    "    \"\"\"\n",
    "    Apply a output layer to x_tensor using weight and bias\n",
    "    : x_tensor: A 2-D tensor where the first dimension is batch size.\n",
    "    : num_outputs: The number of output that the new tensor should be.\n",
    "    : return: A 2-D tensor where the second dimension is num_outputs.\n",
    "    \"\"\"\n",
    "    # TODO: Implement Function\n",
    "    weight = tf.Variable(tf.random_normal([int(x_tensor.get_shape().as_list()[1]), num_outputs], stddev=0.1))\n",
    "    bias = tf.Variable(tf.zeros([num_outputs]))\n",
    "    out = tf.add(tf.matmul(x_tensor , weight),bias)\n",
    "    \n",
    "    return out\n",
    "\n",
    "\n",
    "\"\"\"\n",
    "DON'T MODIFY ANYTHING IN THIS CELL THAT IS BELOW THIS LINE\n",
    "\"\"\"\n",
    "tests.test_output(output)"
   ]
  },
  {
   "cell_type": "markdown",
   "metadata": {
    "deletable": true,
    "editable": true
   },
   "source": [
    "### Create Convolutional Model\n",
    "Implement the function `conv_net` to create a convolutional neural network model. The function takes in a batch of images, `x`, and outputs logits.  Use the layers you created above to create this model:\n",
    "\n",
    "* Apply 1, 2, or 3 Convolution and Max Pool layers\n",
    "* Apply a Flatten Layer\n",
    "* Apply 1, 2, or 3 Fully Connected Layers\n",
    "* Apply an Output Layer\n",
    "* Return the output\n",
    "* Apply [TensorFlow's Dropout](https://www.tensorflow.org/api_docs/python/tf/nn/dropout) to one or more layers in the model using `keep_prob`. "
   ]
  },
  {
   "cell_type": "code",
   "execution_count": 54,
   "metadata": {
    "collapsed": false,
    "deletable": true,
    "editable": true
   },
   "outputs": [
    {
     "name": "stdout",
     "output_type": "stream",
     "text": [
      "convksize (4, 4)\n",
      "x_tensor.get_shape()[3] (?, 32, 32, 3)\n",
      "convoutput 16\n",
      "weights  Tensor(\"Variable/read:0\", shape=(4, 4, 3, 16), dtype=float32)\n",
      "convksize (4, 4)\n",
      "x_tensor.get_shape()[3] (?, 16, 16, 16)\n",
      "convoutput 32\n",
      "weights  Tensor(\"Variable_2/read:0\", shape=(4, 4, 16, 32), dtype=float32)\n",
      "convksize (4, 4)\n",
      "x_tensor.get_shape()[3] (?, 8, 8, 32)\n",
      "convoutput 64\n",
      "weights  Tensor(\"Variable_4/read:0\", shape=(4, 4, 32, 64), dtype=float32)\n",
      "convksize (4, 4)\n",
      "x_tensor.get_shape()[3] (?, 32, 32, 3)\n",
      "convoutput 16\n",
      "weights  Tensor(\"Variable_8/read:0\", shape=(4, 4, 3, 16), dtype=float32)\n",
      "convksize (4, 4)\n",
      "x_tensor.get_shape()[3] (?, 16, 16, 16)\n",
      "convoutput 32\n",
      "weights  Tensor(\"Variable_10/read:0\", shape=(4, 4, 16, 32), dtype=float32)\n",
      "convksize (4, 4)\n",
      "x_tensor.get_shape()[3] (?, 8, 8, 32)\n",
      "convoutput 64\n",
      "weights  Tensor(\"Variable_12/read:0\", shape=(4, 4, 32, 64), dtype=float32)\n",
      "Neural Network Built!\n"
     ]
    }
   ],
   "source": [
    "def conv_net(x, keep_prob):\n",
    "    \"\"\"\n",
    "    Create a convolutional neural network model\n",
    "    : x: Placeholder tensor that holds image data.\n",
    "    : keep_prob: Placeholder tensor that hold dropout keep probability.\n",
    "    : return: Tensor that represents logits\n",
    "    \"\"\"\n",
    "    # TODO: Apply 1, 2, or 3 Convolution and Max Pool layers\n",
    "    #    Play around with different number of outputs, kernel size and stride\n",
    "    # Function Definition from Above:\n",
    "    #    conv2d_maxpool(x_tensor, conv_num_outputs, conv_ksize, conv_strides, pool_ksize, pool_strides)\n",
    "    x = conv2d_maxpool(x, 16, (4,4), (1,1), (2,2), (2,2))\n",
    "    x = tf.contrib.layers.batch_norm(x, \n",
    "                                    center=True, scale=True, \n",
    "                                    is_training=True,)\n",
    "    x = conv2d_maxpool(x, 32, (4,4), (1,1), (2,2), (2,2))\n",
    "    ########################################################\n",
    "    x = tf.contrib.layers.batch_norm(x, \n",
    "                                    center=True, scale=True, \n",
    "                                    is_training=True,)\n",
    "    x = conv2d_maxpool(x, 64, (4,4), (1,1), (2,2), (2,2))\n",
    "      \n",
    "\n",
    "    \n",
    "    # TODO: Apply a Flatten Layer\n",
    "    # Function Definition from Above:\n",
    "    #   flatten(x_tensor)\n",
    "    x = flatten(x)\n",
    "    \n",
    "\n",
    "    # TODO: Apply 1, 2, or 3 Fully Connected Layers\n",
    "    #    Play around with different number of outputs\n",
    "    # Function Definition from Above:\n",
    "    #   fully_conn(x_tensor, num_outputs)\n",
    "    x = fully_conn(x, 256)\n",
    "    x = fully_conn(x, 128)\n",
    "    \n",
    "    x = tf.nn.dropout(\n",
    "        x,\n",
    "        keep_prob,\n",
    "    )\n",
    "    \n",
    "    # TODO: Apply an Output Layer\n",
    "    #    Set this to the number of classes\n",
    "    # Function Definition from Above:\n",
    "    #   output(x_tensor, num_outputs)\n",
    "    x = output(x, 10)\n",
    "    \n",
    "    # TODO: return output\n",
    "    return  x\n",
    "\n",
    "\n",
    "\n",
    "\"\"\"\n",
    "DON'T MODIFY ANYTHING IN THIS CELL THAT IS BELOW THIS LINE\n",
    "\"\"\"\n",
    "\n",
    "##############################\n",
    "## Build the Neural Network ##\n",
    "##############################\n",
    "\n",
    "# Remove previous weights, bias, inputs, etc..\n",
    "tf.reset_default_graph()\n",
    "\n",
    "# Inputs\n",
    "x = neural_net_image_input((32, 32, 3))\n",
    "y = neural_net_label_input(10)\n",
    "keep_prob = neural_net_keep_prob_input()\n",
    "\n",
    "# Model\n",
    "logits = conv_net(x, keep_prob)\n",
    "\n",
    "# Name logits Tensor, so that is can be loaded from disk after training\n",
    "logits = tf.identity(logits, name='logits')\n",
    "\n",
    "# Loss and Optimizer\n",
    "cost = tf.reduce_mean(tf.nn.softmax_cross_entropy_with_logits(logits=logits, labels=y))\n",
    "optimizer = tf.train.AdamOptimizer().minimize(cost)\n",
    "\n",
    "# Accuracy\n",
    "correct_pred = tf.equal(tf.argmax(logits, 1), tf.argmax(y, 1))\n",
    "accuracy = tf.reduce_mean(tf.cast(correct_pred, tf.float32), name='accuracy')\n",
    "\n",
    "tests.test_conv_net(conv_net)"
   ]
  },
  {
   "cell_type": "markdown",
   "metadata": {
    "deletable": true,
    "editable": true
   },
   "source": [
    "## Train the Neural Network\n",
    "### Single Optimization\n",
    "Implement the function `train_neural_network` to do a single optimization.  The optimization should use `optimizer` to optimize in `session` with a `feed_dict` of the following:\n",
    "* `x` for image input\n",
    "* `y` for labels\n",
    "* `keep_prob` for keep probability for dropout\n",
    "\n",
    "This function will be called for each batch, so `tf.global_variables_initializer()` has already been called.\n",
    "\n",
    "Note: Nothing needs to be returned. This function is only optimizing the neural network."
   ]
  },
  {
   "cell_type": "code",
   "execution_count": 55,
   "metadata": {
    "collapsed": false,
    "deletable": true,
    "editable": true
   },
   "outputs": [
    {
     "name": "stdout",
     "output_type": "stream",
     "text": [
      "Tests Passed\n"
     ]
    }
   ],
   "source": [
    "def train_neural_network(session, optimizer, keep_probability, feature_batch, label_batch):\n",
    "    \"\"\"\n",
    "    Optimize the session on a batch of images and labels\n",
    "    : session: Current TensorFlow session\n",
    "    : optimizer: TensorFlow optimizer function\n",
    "    : keep_probability: keep probability\n",
    "    : feature_batch: Batch of Numpy image data\n",
    "    : label_batch: Batch of Numpy label data\n",
    "    \"\"\"\n",
    "    # TODO: Implement Function\n",
    "    feed_dict = {\n",
    "        x : feature_batch,\n",
    "        y : label_batch,\n",
    "        keep_prob : keep_probability\n",
    "    }\n",
    "    \n",
    "    session.run(optimizer, feed_dict=feed_dict)\n",
    "    pass\n",
    "\n",
    "\n",
    "\"\"\"\n",
    "DON'T MODIFY ANYTHING IN THIS CELL THAT IS BELOW THIS LINE\n",
    "\"\"\"\n",
    "tests.test_train_nn(train_neural_network)"
   ]
  },
  {
   "cell_type": "markdown",
   "metadata": {
    "deletable": true,
    "editable": true
   },
   "source": [
    "### Show Stats\n",
    "Implement the function `print_stats` to print loss and validation accuracy.  Use the global variables `valid_features` and `valid_labels` to calculate validation accuracy.  Use a keep probability of `1.0` to calculate the loss and validation accuracy."
   ]
  },
  {
   "cell_type": "code",
   "execution_count": 56,
   "metadata": {
    "collapsed": false,
    "deletable": true,
    "editable": true
   },
   "outputs": [],
   "source": [
    "def print_stats(session, feature_batch, label_batch, cost, accuracy):\n",
    "    \n",
    "    \"\"\"\n",
    "    Print information about loss and validation accuracy\n",
    "    : session: Current TensorFlow session\n",
    "    : feature_batch: Batch of Numpy image data\n",
    "    : label_batch: Batch of Numpy label data\n",
    "    : cost: TensorFlow cost function\n",
    "    : accuracy: TensorFlow accuracy function\n",
    "    \"\"\"\n",
    "    # TODO: Implement Function\n",
    "    global valid_features, valid_labels, batch_size\n",
    "    loss = session.run(cost, feed_dict={\n",
    "            x: feature_batch,\n",
    "            y: label_batch,\n",
    "            keep_prob: 1.})\n",
    "    train_acc = session.run(accuracy, feed_dict={\n",
    "            x: feature_batch,\n",
    "            y: label_batch,\n",
    "            keep_prob: 1.})\n",
    "    validation_accuracy = session.run(accuracy, feed_dict={\n",
    "            x: valid_features[:batch_size],\n",
    "            y: valid_labels[:batch_size],\n",
    "            keep_prob: 1.})\n",
    "        \n",
    "    print(' Loss: {:<8.3} Accuracy: {:<5.3}'.format(loss, validation_accuracy), end='\\n')\n",
    "    pass\n",
    "\n"
   ]
  },
  {
   "cell_type": "markdown",
   "metadata": {
    "deletable": true,
    "editable": true
   },
   "source": [
    "### Hyperparameters\n",
    "Tune the following parameters:\n",
    "* Set `epochs` to the number of iterations until the network stops learning or start overfitting\n",
    "* Set `batch_size` to the highest number that your machine has memory for.  Most people set them to common sizes of memory:\n",
    " * 64\n",
    " * 128\n",
    " * 256\n",
    " * ...\n",
    "* Set `keep_probability` to the probability of keeping a node using dropout"
   ]
  },
  {
   "cell_type": "code",
   "execution_count": 62,
   "metadata": {
    "collapsed": true,
    "deletable": true,
    "editable": true
   },
   "outputs": [],
   "source": [
    "# TODO: Tune Parameters\n",
    "epochs = 30\n",
    "batch_size = 256\n",
    "keep_probability = 0.9\n",
    "#note to grader: in the below cell i interrupted the code after the first few epoches, thats why it shows an error.\n",
    "\n"
   ]
  },
  {
   "cell_type": "markdown",
   "metadata": {
    "deletable": true,
    "editable": true
   },
   "source": [
    "### Train on a Single CIFAR-10 Batch\n",
    "Instead of training the neural network on all the CIFAR-10 batches of data, let's use a single batch. This should save time while you iterate on the model to get a better accuracy.  Once the final validation accuracy is 50% or greater, run the model on all the data in the next section."
   ]
  },
  {
   "cell_type": "code",
   "execution_count": 63,
   "metadata": {
    "collapsed": false,
    "deletable": true,
    "editable": true
   },
   "outputs": [
    {
     "name": "stdout",
     "output_type": "stream",
     "text": [
      "Checking the Training on a Single Batch...\n",
      "Epoch  1, CIFAR-10 Batch 1:   Loss: 1.81     Accuracy: 0.375\n",
      "Epoch  2, CIFAR-10 Batch 1:   Loss: 1.3      Accuracy: 0.445\n",
      "Epoch  3, CIFAR-10 Batch 1:   Loss: 0.888    Accuracy: 0.473\n",
      "Epoch  4, CIFAR-10 Batch 1:   Loss: 0.655    Accuracy: 0.488\n",
      "Epoch  5, CIFAR-10 Batch 1:   Loss: 0.48     Accuracy: 0.508\n",
      "Epoch  6, CIFAR-10 Batch 1:   Loss: 0.366    Accuracy: 0.484\n",
      "Epoch  7, CIFAR-10 Batch 1:   Loss: 0.269    Accuracy: 0.5  \n",
      "Epoch  8, CIFAR-10 Batch 1:   Loss: 0.187    Accuracy: 0.477\n",
      "Epoch  9, CIFAR-10 Batch 1:   Loss: 0.158    Accuracy: 0.465\n",
      "Epoch 10, CIFAR-10 Batch 1:   Loss: 0.12     Accuracy: 0.484\n",
      "Epoch 11, CIFAR-10 Batch 1:   Loss: 0.142    Accuracy: 0.504\n",
      "Epoch 12, CIFAR-10 Batch 1:   Loss: 0.124    Accuracy: 0.52 \n",
      "Epoch 13, CIFAR-10 Batch 1:   Loss: 0.0861   Accuracy: 0.508\n",
      "Epoch 14, CIFAR-10 Batch 1:   Loss: 0.114    Accuracy: 0.465\n",
      "Epoch 15, CIFAR-10 Batch 1:   Loss: 0.06     Accuracy: 0.504\n",
      "Epoch 16, CIFAR-10 Batch 1:   Loss: 0.144    Accuracy: 0.48 \n",
      "Epoch 17, CIFAR-10 Batch 1:   Loss: 0.0389   Accuracy: 0.508\n",
      "Epoch 18, CIFAR-10 Batch 1:   Loss: 0.0374   Accuracy: 0.551\n",
      "Epoch 19, CIFAR-10 Batch 1:   Loss: 0.0364   Accuracy: 0.516\n",
      "Epoch 20, CIFAR-10 Batch 1:   Loss: 0.0245   Accuracy: 0.574\n",
      "Epoch 21, CIFAR-10 Batch 1:   Loss: 0.019    Accuracy: 0.57 \n",
      "Epoch 22, CIFAR-10 Batch 1:   Loss: 0.0253   Accuracy: 0.559\n",
      "Epoch 23, CIFAR-10 Batch 1:   Loss: 0.0329   Accuracy: 0.543\n",
      "Epoch 24, CIFAR-10 Batch 1:   Loss: 0.0132   Accuracy: 0.586\n",
      "Epoch 25, CIFAR-10 Batch 1:   Loss: 0.00967  Accuracy: 0.531\n",
      "Epoch 26, CIFAR-10 Batch 1:   Loss: 0.012    Accuracy: 0.531\n",
      "Epoch 27, CIFAR-10 Batch 1:   Loss: 0.00812  Accuracy: 0.582\n",
      "Epoch 28, CIFAR-10 Batch 1:   Loss: 0.00889  Accuracy: 0.539\n",
      "Epoch 29, CIFAR-10 Batch 1:   Loss: 0.00445  Accuracy: 0.57 \n",
      "Epoch 30, CIFAR-10 Batch 1:   Loss: 0.00487  Accuracy: 0.527\n"
     ]
    }
   ],
   "source": [
    "\"\"\"\n",
    "DON'T MODIFY ANYTHING IN THIS CELL\n",
    "\"\"\"\n",
    "print('Checking the Training on a Single Batch...')\n",
    "with tf.Session() as sess:\n",
    "    # Initializing the variables\n",
    "    sess.run(tf.global_variables_initializer())\n",
    "    \n",
    "    # Training cycle\n",
    "    for epoch in range(epochs):\n",
    "        batch_i = 1\n",
    "        for batch_features, batch_labels in helper.load_preprocess_training_batch(batch_i, batch_size):\n",
    "            train_neural_network(sess, optimizer, keep_probability, batch_features, batch_labels)\n",
    "        print('Epoch {:>2}, CIFAR-10 Batch {}:  '.format(epoch + 1, batch_i), end='')\n",
    "        print_stats(sess, batch_features, batch_labels, cost, accuracy)"
   ]
  },
  {
   "cell_type": "markdown",
   "metadata": {
    "deletable": true,
    "editable": true
   },
   "source": [
    "### Fully Train the Model\n",
    "Now that you got a good accuracy with a single CIFAR-10 batch, try it with all five batches."
   ]
  },
  {
   "cell_type": "code",
   "execution_count": 64,
   "metadata": {
    "collapsed": false,
    "deletable": true,
    "editable": true
   },
   "outputs": [
    {
     "name": "stdout",
     "output_type": "stream",
     "text": [
      "Training...\n",
      "Epoch  1, CIFAR-10 Batch 1:   Loss: 1.72     Accuracy: 0.391\n",
      "Epoch  1, CIFAR-10 Batch 2:   Loss: 1.45     Accuracy: 0.422\n",
      "Epoch  1, CIFAR-10 Batch 3:   Loss: 1.05     Accuracy: 0.477\n",
      "Epoch  1, CIFAR-10 Batch 4:   Loss: 1.14     Accuracy: 0.488\n",
      "Epoch  1, CIFAR-10 Batch 5:   Loss: 1.22     Accuracy: 0.5  \n",
      "Epoch  2, CIFAR-10 Batch 1:   Loss: 1.12     Accuracy: 0.52 \n",
      "Epoch  2, CIFAR-10 Batch 2:   Loss: 0.955    Accuracy: 0.512\n",
      "Epoch  2, CIFAR-10 Batch 3:   Loss: 0.747    Accuracy: 0.57 \n",
      "Epoch  2, CIFAR-10 Batch 4:   Loss: 0.786    Accuracy: 0.582\n",
      "Epoch  2, CIFAR-10 Batch 5:   Loss: 0.856    Accuracy: 0.574\n",
      "Epoch  3, CIFAR-10 Batch 1:   Loss: 0.783    Accuracy: 0.598\n",
      "Epoch  3, CIFAR-10 Batch 2:   Loss: 0.553    Accuracy: 0.586\n",
      "Epoch  3, CIFAR-10 Batch 3:   Loss: 0.537    Accuracy: 0.598\n",
      "Epoch  3, CIFAR-10 Batch 4:   Loss: 0.518    Accuracy: 0.633\n",
      "Epoch  3, CIFAR-10 Batch 5:   Loss: 0.549    Accuracy: 0.613\n",
      "Epoch  4, CIFAR-10 Batch 1:   Loss: 0.534    Accuracy: 0.629\n",
      "Epoch  4, CIFAR-10 Batch 2:   Loss: 0.39     Accuracy: 0.582\n",
      "Epoch  4, CIFAR-10 Batch 3:   Loss: 0.379    Accuracy: 0.66 \n",
      "Epoch  4, CIFAR-10 Batch 4:   Loss: 0.388    Accuracy: 0.656\n",
      "Epoch  4, CIFAR-10 Batch 5:   Loss: 0.394    Accuracy: 0.66 \n",
      "Epoch  5, CIFAR-10 Batch 1:   Loss: 0.414    Accuracy: 0.648\n",
      "Epoch  5, CIFAR-10 Batch 2:   Loss: 0.285    Accuracy: 0.613\n",
      "Epoch  5, CIFAR-10 Batch 3:   Loss: 0.281    Accuracy: 0.664\n",
      "Epoch  5, CIFAR-10 Batch 4:   Loss: 0.297    Accuracy: 0.676\n",
      "Epoch  5, CIFAR-10 Batch 5:   Loss: 0.293    Accuracy: 0.672\n",
      "Epoch  6, CIFAR-10 Batch 1:   Loss: 0.264    Accuracy: 0.648\n",
      "Epoch  6, CIFAR-10 Batch 2:   Loss: 0.225    Accuracy: 0.652\n",
      "Epoch  6, CIFAR-10 Batch 3:   Loss: 0.249    Accuracy: 0.633\n",
      "Epoch  6, CIFAR-10 Batch 4:   Loss: 0.225    Accuracy: 0.68 \n",
      "Epoch  6, CIFAR-10 Batch 5:   Loss: 0.233    Accuracy: 0.699\n",
      "Epoch  7, CIFAR-10 Batch 1:   Loss: 0.24     Accuracy: 0.668\n",
      "Epoch  7, CIFAR-10 Batch 2:   Loss: 0.16     Accuracy: 0.625\n",
      "Epoch  7, CIFAR-10 Batch 3:   Loss: 0.208    Accuracy: 0.656\n",
      "Epoch  7, CIFAR-10 Batch 4:   Loss: 0.179    Accuracy: 0.684\n",
      "Epoch  7, CIFAR-10 Batch 5:   Loss: 0.147    Accuracy: 0.676\n",
      "Epoch  8, CIFAR-10 Batch 1:   Loss: 0.178    Accuracy: 0.664\n",
      "Epoch  8, CIFAR-10 Batch 2:   Loss: 0.14     Accuracy: 0.652\n",
      "Epoch  8, CIFAR-10 Batch 3:   Loss: 0.174    Accuracy: 0.668\n",
      "Epoch  8, CIFAR-10 Batch 4:   Loss: 0.137    Accuracy: 0.684\n",
      "Epoch  8, CIFAR-10 Batch 5:   Loss: 0.11     Accuracy: 0.695\n",
      "Epoch  9, CIFAR-10 Batch 1:   Loss: 0.125    Accuracy: 0.668\n",
      "Epoch  9, CIFAR-10 Batch 2:   Loss: 0.115    Accuracy: 0.621\n",
      "Epoch  9, CIFAR-10 Batch 3:   Loss: 0.12     Accuracy: 0.648\n",
      "Epoch  9, CIFAR-10 Batch 4:   Loss: 0.114    Accuracy: 0.672\n",
      "Epoch  9, CIFAR-10 Batch 5:   Loss: 0.0785   Accuracy: 0.691\n",
      "Epoch 10, CIFAR-10 Batch 1:   Loss: 0.0967   Accuracy: 0.66 \n",
      "Epoch 10, CIFAR-10 Batch 2:   Loss: 0.097    Accuracy: 0.602\n",
      "Epoch 10, CIFAR-10 Batch 3:   Loss: 0.0929   Accuracy: 0.66 \n",
      "Epoch 10, CIFAR-10 Batch 4:   Loss: 0.0826   Accuracy: 0.664\n",
      "Epoch 10, CIFAR-10 Batch 5:   Loss: 0.0638   Accuracy: 0.66 \n",
      "Epoch 11, CIFAR-10 Batch 1:   Loss: 0.0959   Accuracy: 0.633\n",
      "Epoch 11, CIFAR-10 Batch 2:   Loss: 0.083    Accuracy: 0.652\n",
      "Epoch 11, CIFAR-10 Batch 3:   Loss: 0.0854   Accuracy: 0.672\n",
      "Epoch 11, CIFAR-10 Batch 4:   Loss: 0.0659   Accuracy: 0.656\n",
      "Epoch 11, CIFAR-10 Batch 5:   Loss: 0.0547   Accuracy: 0.664\n",
      "Epoch 12, CIFAR-10 Batch 1:   Loss: 0.0773   Accuracy: 0.672\n",
      "Epoch 12, CIFAR-10 Batch 2:   Loss: 0.0837   Accuracy: 0.672\n",
      "Epoch 12, CIFAR-10 Batch 3:   Loss: 0.0773   Accuracy: 0.648\n",
      "Epoch 12, CIFAR-10 Batch 4:   Loss: 0.0582   Accuracy: 0.695\n",
      "Epoch 12, CIFAR-10 Batch 5:   Loss: 0.0575   Accuracy: 0.645\n",
      "Epoch 13, CIFAR-10 Batch 1:   Loss: 0.087    Accuracy: 0.652\n",
      "Epoch 13, CIFAR-10 Batch 2:   Loss: 0.0576   Accuracy: 0.664\n",
      "Epoch 13, CIFAR-10 Batch 3:   Loss: 0.0718   Accuracy: 0.664\n",
      "Epoch 13, CIFAR-10 Batch 4:   Loss: 0.0477   Accuracy: 0.637\n",
      "Epoch 13, CIFAR-10 Batch 5:   Loss: 0.034    Accuracy: 0.691\n",
      "Epoch 14, CIFAR-10 Batch 1:   Loss: 0.0732   Accuracy: 0.676\n",
      "Epoch 14, CIFAR-10 Batch 2:   Loss: 0.0481   Accuracy: 0.633\n",
      "Epoch 14, CIFAR-10 Batch 3:   Loss: 0.078    Accuracy: 0.656\n",
      "Epoch 14, CIFAR-10 Batch 4:   Loss: 0.0444   Accuracy: 0.66 \n",
      "Epoch 14, CIFAR-10 Batch 5:   Loss: 0.0417   Accuracy: 0.684\n",
      "Epoch 15, CIFAR-10 Batch 1:   Loss: 0.0598   Accuracy: 0.676\n",
      "Epoch 15, CIFAR-10 Batch 2:   Loss: 0.0582   Accuracy: 0.648\n",
      "Epoch 15, CIFAR-10 Batch 3:   Loss: 0.0559   Accuracy: 0.656\n",
      "Epoch 15, CIFAR-10 Batch 4:   Loss: 0.0492   Accuracy: 0.699\n",
      "Epoch 15, CIFAR-10 Batch 5:   Loss: 0.033    Accuracy: 0.668\n",
      "Epoch 16, CIFAR-10 Batch 1:   Loss: 0.0363   Accuracy: 0.672\n",
      "Epoch 16, CIFAR-10 Batch 2:   Loss: 0.0411   Accuracy: 0.641\n",
      "Epoch 16, CIFAR-10 Batch 3:   Loss: 0.0531   Accuracy: 0.648\n",
      "Epoch 16, CIFAR-10 Batch 4:   Loss: 0.0405   Accuracy: 0.684\n",
      "Epoch 16, CIFAR-10 Batch 5:   Loss: 0.0286   Accuracy: 0.656\n",
      "Epoch 17, CIFAR-10 Batch 1:   Loss: 0.0327   Accuracy: 0.672\n",
      "Epoch 17, CIFAR-10 Batch 2:   Loss: 0.0212   Accuracy: 0.672\n",
      "Epoch 17, CIFAR-10 Batch 3:   Loss: 0.0327   Accuracy: 0.648\n",
      "Epoch 17, CIFAR-10 Batch 4:   Loss: 0.0234   Accuracy: 0.672\n",
      "Epoch 17, CIFAR-10 Batch 5:   Loss: 0.0152   Accuracy: 0.676\n",
      "Epoch 18, CIFAR-10 Batch 1:   Loss: 0.0288   Accuracy: 0.68 \n",
      "Epoch 18, CIFAR-10 Batch 2:   Loss: 0.0227   Accuracy: 0.684\n",
      "Epoch 18, CIFAR-10 Batch 3:   Loss: 0.0224   Accuracy: 0.633\n",
      "Epoch 18, CIFAR-10 Batch 4:   Loss: 0.0172   Accuracy: 0.637\n",
      "Epoch 18, CIFAR-10 Batch 5:   Loss: 0.0119   Accuracy: 0.66 \n",
      "Epoch 19, CIFAR-10 Batch 1:   Loss: 0.0385   Accuracy: 0.676\n",
      "Epoch 19, CIFAR-10 Batch 2:   Loss: 0.026    Accuracy: 0.656\n",
      "Epoch 19, CIFAR-10 Batch 3:   Loss: 0.0219   Accuracy: 0.641\n",
      "Epoch 19, CIFAR-10 Batch 4:   Loss: 0.021    Accuracy: 0.66 \n",
      "Epoch 19, CIFAR-10 Batch 5:   Loss: 0.0121   Accuracy: 0.633\n",
      "Epoch 20, CIFAR-10 Batch 1:   Loss: 0.0225   Accuracy: 0.668\n",
      "Epoch 20, CIFAR-10 Batch 2:   Loss: 0.0186   Accuracy: 0.656\n",
      "Epoch 20, CIFAR-10 Batch 3:   Loss: 0.0136   Accuracy: 0.633\n",
      "Epoch 20, CIFAR-10 Batch 4:   Loss: 0.0213   Accuracy: 0.641\n",
      "Epoch 20, CIFAR-10 Batch 5:   Loss: 0.0126   Accuracy: 0.699\n",
      "Epoch 21, CIFAR-10 Batch 1:   Loss: 0.0257   Accuracy: 0.668\n",
      "Epoch 21, CIFAR-10 Batch 2:   Loss: 0.0164   Accuracy: 0.684\n",
      "Epoch 21, CIFAR-10 Batch 3:   Loss: 0.0225   Accuracy: 0.629\n",
      "Epoch 21, CIFAR-10 Batch 4:   Loss: 0.0213   Accuracy: 0.695\n",
      "Epoch 21, CIFAR-10 Batch 5:   Loss: 0.0161   Accuracy: 0.672\n",
      "Epoch 22, CIFAR-10 Batch 1:   Loss: 0.0263   Accuracy: 0.664\n",
      "Epoch 22, CIFAR-10 Batch 2:   Loss: 0.0132   Accuracy: 0.664\n",
      "Epoch 22, CIFAR-10 Batch 3:   Loss: 0.0207   Accuracy: 0.637\n",
      "Epoch 22, CIFAR-10 Batch 4:   Loss: 0.0131   Accuracy: 0.652\n",
      "Epoch 22, CIFAR-10 Batch 5:   Loss: 0.0146   Accuracy: 0.66 \n",
      "Epoch 23, CIFAR-10 Batch 1:   Loss: 0.0115   Accuracy: 0.625\n",
      "Epoch 23, CIFAR-10 Batch 2:   Loss: 0.0102   Accuracy: 0.656\n",
      "Epoch 23, CIFAR-10 Batch 3:   Loss: 0.0192   Accuracy: 0.652\n",
      "Epoch 23, CIFAR-10 Batch 4:   Loss: 0.0127   Accuracy: 0.688\n",
      "Epoch 23, CIFAR-10 Batch 5:   Loss: 0.00584  Accuracy: 0.648\n",
      "Epoch 24, CIFAR-10 Batch 1:   Loss: 0.0158   Accuracy: 0.668\n",
      "Epoch 24, CIFAR-10 Batch 2:   Loss: 0.0136   Accuracy: 0.684\n",
      "Epoch 24, CIFAR-10 Batch 3:   Loss: 0.00924  Accuracy: 0.656\n",
      "Epoch 24, CIFAR-10 Batch 4:   Loss: 0.013    Accuracy: 0.633\n",
      "Epoch 24, CIFAR-10 Batch 5:   Loss: 0.00693  Accuracy: 0.637\n",
      "Epoch 25, CIFAR-10 Batch 1:   Loss: 0.0118   Accuracy: 0.664\n",
      "Epoch 25, CIFAR-10 Batch 2:   Loss: 0.0119   Accuracy: 0.676\n",
      "Epoch 25, CIFAR-10 Batch 3:   Loss: 0.00869  Accuracy: 0.641\n",
      "Epoch 25, CIFAR-10 Batch 4:   Loss: 0.0266   Accuracy: 0.641\n",
      "Epoch 25, CIFAR-10 Batch 5:   Loss: 0.00727  Accuracy: 0.648\n",
      "Epoch 26, CIFAR-10 Batch 1:   Loss: 0.0148   Accuracy: 0.621\n",
      "Epoch 26, CIFAR-10 Batch 2:   Loss: 0.00841  Accuracy: 0.656\n",
      "Epoch 26, CIFAR-10 Batch 3:   Loss: 0.0116   Accuracy: 0.652\n",
      "Epoch 26, CIFAR-10 Batch 4:   Loss: 0.0071   Accuracy: 0.625\n",
      "Epoch 26, CIFAR-10 Batch 5:   Loss: 0.0101   Accuracy: 0.652\n",
      "Epoch 27, CIFAR-10 Batch 1:   Loss: 0.00986  Accuracy: 0.668\n",
      "Epoch 27, CIFAR-10 Batch 2:   Loss: 0.0129   Accuracy: 0.66 \n",
      "Epoch 27, CIFAR-10 Batch 3:   Loss: 0.00442  Accuracy: 0.672\n",
      "Epoch 27, CIFAR-10 Batch 4:   Loss: 0.0101   Accuracy: 0.629\n",
      "Epoch 27, CIFAR-10 Batch 5:   Loss: 0.00641  Accuracy: 0.66 \n",
      "Epoch 28, CIFAR-10 Batch 1:   Loss: 0.00478  Accuracy: 0.664\n",
      "Epoch 28, CIFAR-10 Batch 2:   Loss: 0.0148   Accuracy: 0.664\n",
      "Epoch 28, CIFAR-10 Batch 3:   Loss: 0.00656  Accuracy: 0.656\n",
      "Epoch 28, CIFAR-10 Batch 4:   Loss: 0.00702  Accuracy: 0.66 \n",
      "Epoch 28, CIFAR-10 Batch 5:   Loss: 0.00283  Accuracy: 0.66 \n",
      "Epoch 29, CIFAR-10 Batch 1:   Loss: 0.00551  Accuracy: 0.629\n",
      "Epoch 29, CIFAR-10 Batch 2:   Loss: 0.00911  Accuracy: 0.652\n",
      "Epoch 29, CIFAR-10 Batch 3:   Loss: 0.00691  Accuracy: 0.664\n",
      "Epoch 29, CIFAR-10 Batch 4:   Loss: 0.00848  Accuracy: 0.668\n",
      "Epoch 29, CIFAR-10 Batch 5:   Loss: 0.00214  Accuracy: 0.641\n",
      "Epoch 30, CIFAR-10 Batch 1:   Loss: 0.00195  Accuracy: 0.637\n",
      "Epoch 30, CIFAR-10 Batch 2:   Loss: 0.00475  Accuracy: 0.664\n",
      "Epoch 30, CIFAR-10 Batch 3:   Loss: 0.0179   Accuracy: 0.664\n",
      "Epoch 30, CIFAR-10 Batch 4:   Loss: 0.0047   Accuracy: 0.645\n",
      "Epoch 30, CIFAR-10 Batch 5:   Loss: 0.00174  Accuracy: 0.609\n"
     ]
    }
   ],
   "source": [
    "\"\"\"\n",
    "DON'T MODIFY ANYTHING IN THIS CELL\n",
    "\"\"\"\n",
    "save_model_path = './image_classification'\n",
    "\n",
    "print('Training...')\n",
    "with tf.Session() as sess:\n",
    "    # Initializing the variables\n",
    "    sess.run(tf.global_variables_initializer())\n",
    "    \n",
    "    # Training cycle\n",
    "    for epoch in range(epochs):\n",
    "        # Loop over all batches\n",
    "        n_batches = 5\n",
    "        for batch_i in range(1, n_batches + 1):\n",
    "            for batch_features, batch_labels in helper.load_preprocess_training_batch(batch_i, batch_size):\n",
    "                train_neural_network(sess, optimizer, keep_probability, batch_features, batch_labels)\n",
    "            print('Epoch {:>2}, CIFAR-10 Batch {}:  '.format(epoch + 1, batch_i), end='')\n",
    "            print_stats(sess, batch_features, batch_labels, cost, accuracy)\n",
    "            \n",
    "    # Save Model\n",
    "    saver = tf.train.Saver()\n",
    "    save_path = saver.save(sess, save_model_path)"
   ]
  },
  {
   "cell_type": "markdown",
   "metadata": {
    "deletable": true,
    "editable": true
   },
   "source": [
    "# Checkpoint\n",
    "The model has been saved to disk.\n",
    "## Test Model\n",
    "Test your model against the test dataset.  This will be your final accuracy. You should have an accuracy greater than 50%. If you don't, keep tweaking the model architecture and parameters."
   ]
  },
  {
   "cell_type": "code",
   "execution_count": 65,
   "metadata": {
    "collapsed": false,
    "deletable": true,
    "editable": true
   },
   "outputs": [
    {
     "name": "stdout",
     "output_type": "stream",
     "text": [
      "Testing Accuracy: 0.67783203125\n",
      "\n"
     ]
    },
    {
     "data": {
      "image/png": "[encoded data removed]",
      "text/plain": [
       "<matplotlib.figure.Figure at 0x127904240>"
      ]
     },
     "metadata": {
      "image/png": {
       "height": 319,
       "width": 355
      }
     },
     "output_type": "display_data"
    }
   ],
   "source": [
    "\"\"\"\n",
    "DON'T MODIFY ANYTHING IN THIS CELL\n",
    "\"\"\"\n",
    "%matplotlib inline\n",
    "%config InlineBackend.figure_format = 'retina'\n",
    "\n",
    "import tensorflow as tf\n",
    "import pickle\n",
    "import helper\n",
    "import random\n",
    "\n",
    "# Set batch size if not already set\n",
    "try:\n",
    "    if batch_size:\n",
    "        pass\n",
    "except NameError:\n",
    "    batch_size = 64\n",
    "\n",
    "save_model_path = './image_classification'\n",
    "n_samples = 4\n",
    "top_n_predictions = 3\n",
    "\n",
    "def test_model():\n",
    "    \"\"\"\n",
    "    Test the saved model against the test dataset\n",
    "    \"\"\"\n",
    "\n",
    "    test_features, test_labels = pickle.load(open('preprocess_test.p', mode='rb'))\n",
    "    loaded_graph = tf.Graph()\n",
    "\n",
    "    with tf.Session(graph=loaded_graph) as sess:\n",
    "        # Load model\n",
    "        loader = tf.train.import_meta_graph(save_model_path + '.meta')\n",
    "        loader.restore(sess, save_model_path)\n",
    "\n",
    "        # Get Tensors from loaded model\n",
    "        loaded_x = loaded_graph.get_tensor_by_name('x:0')\n",
    "        loaded_y = loaded_graph.get_tensor_by_name('y:0')\n",
    "        loaded_keep_prob = loaded_graph.get_tensor_by_name('keep_prob:0')\n",
    "        loaded_logits = loaded_graph.get_tensor_by_name('logits:0')\n",
    "        loaded_acc = loaded_graph.get_tensor_by_name('accuracy:0')\n",
    "        \n",
    "        # Get accuracy in batches for memory limitations\n",
    "        test_batch_acc_total = 0\n",
    "        test_batch_count = 0\n",
    "        \n",
    "        for test_feature_batch, test_label_batch in helper.batch_features_labels(test_features, test_labels, batch_size):\n",
    "            test_batch_acc_total += sess.run(\n",
    "                loaded_acc,\n",
    "                feed_dict={loaded_x: test_feature_batch, loaded_y: test_label_batch, loaded_keep_prob: 1.0})\n",
    "            test_batch_count += 1\n",
    "\n",
    "        print('Testing Accuracy: {}\\n'.format(test_batch_acc_total/test_batch_count))\n",
    "\n",
    "        # Print Random Samples\n",
    "        random_test_features, random_test_labels = tuple(zip(*random.sample(list(zip(test_features, test_labels)), n_samples)))\n",
    "        random_test_predictions = sess.run(\n",
    "            tf.nn.top_k(tf.nn.softmax(loaded_logits), top_n_predictions),\n",
    "            feed_dict={loaded_x: random_test_features, loaded_y: random_test_labels, loaded_keep_prob: 1.0})\n",
    "        helper.display_image_predictions(random_test_features, random_test_labels, random_test_predictions)\n",
    "\n",
    "\n",
    "test_model()"
   ]
  },
  {
   "cell_type": "markdown",
   "metadata": {
    "deletable": true,
    "editable": true
   },
   "source": [
    "## Why 50-80% Accuracy?\n",
    "You might be wondering why you can't get an accuracy any higher. First things first, 50% isn't bad for a simple CNN.  Pure guessing would get you 10% accuracy. However, you might notice people are getting scores [well above 80%](http://rodrigob.github.io/are_we_there_yet/build/classification_datasets_results.html#43494641522d3130).  That's because we haven't taught you all there is to know about neural networks. We still need to cover a few more techniques.\n",
    "## Submitting This Project\n",
    "When submitting this project, make sure to run all the cells before saving the notebook.  Save the notebook file as \"dlnd_image_classification.ipynb\" and save it as a HTML file under \"File\" -> \"Download as\".  Include the \"helper.py\" and \"problem_unittests.py\" files in your submission."
   ]
  }
 ],
 "metadata": {
  "kernelspec": {
   "display_name": "Python 3",
   "language": "python",
   "name": "python3"
  },
  "language_info": {
   "codemirror_mode": {
    "name": "ipython",
    "version": 3
   },
   "file_extension": ".py",
   "mimetype": "text/x-python",
   "name": "python",
   "nbconvert_exporter": "python",
   "pygments_lexer": "ipython3",
   "version": "3.6.0"
  }
 },
 "nbformat": 4,
 "nbformat_minor": 0
}
