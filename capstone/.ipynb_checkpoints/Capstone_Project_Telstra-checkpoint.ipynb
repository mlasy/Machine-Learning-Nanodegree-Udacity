{
 "cells": [
  {
   "cell_type": "code",
   "execution_count": 7,
   "metadata": {
    "collapsed": false,
    "deletable": true,
    "editable": true
   },
   "outputs": [],
   "source": [
    "import numpy as np\n",
    "import sklearn\n",
    "import pandas as pd\n",
    "import matplotlib\n",
    "import ggplot\n",
    "import seaborn"
   ]
  },
  {
   "cell_type": "markdown",
   "metadata": {
    "deletable": true,
    "editable": true
   },
   "source": [
    "# Table of Contents\n"
   ]
  },
  {
   "cell_type": "markdown",
   "metadata": {
    "deletable": true,
    "editable": true
   },
   "source": [
    "## Exploring the Data\n"
   ]
  },
  {
   "cell_type": "code",
   "execution_count": 20,
   "metadata": {
    "collapsed": false,
    "deletable": true,
    "editable": true
   },
   "outputs": [],
   "source": [
    "train = pd.read_csv(\"Telstra/train.csv\")\n",
    "events = pd.read_csv(\"Telstra/event_type.csv\")\n",
    "log_features = pd.read_csv(\"Telstra/log_feature.csv\")\n",
    "resources = pd.read_csv(\"Telstra/resource_type.csv\")\n",
    "test = pd.read_csv(\"Telstra/test.csv\")\n",
    "severity = pd.read_csv(\"Telstra/severity_type.csv\")\n"
   ]
  },
  {
   "cell_type": "markdown",
   "metadata": {
    "deletable": true,
    "editable": true
   },
   "source": [
    "Our dataset shows the reports of 18552 incidents in total. Let's graph some of the data.\n",
    "\n",
    "1. How severe are most of the interruptions?"
   ]
  },
  {
   "cell_type": "code",
   "execution_count": 43,
   "metadata": {
    "collapsed": false,
    "deletable": true,
    "editable": true
   },
   "outputs": [
    {
     "name": "stdout",
     "output_type": "stream",
     "text": [
      "         id       location  fault_severity\n",
      "0     14121   location 118               1\n",
      "1      9320    location 91               0\n",
      "2     14394   location 152               1\n",
      "3      8218   location 931               1\n",
      "4     14804   location 120               0\n",
      "5      1080   location 664               0\n",
      "6      9731   location 640               0\n",
      "7     15505   location 122               0\n",
      "8      3443   location 263               1\n",
      "9     13300   location 613               1\n",
      "10     8976   location 760               1\n",
      "11     7965   location 519               0\n",
      "12    10342   location 746               0\n",
      "13     6741  location 1066               1\n",
      "14     7187   location 812               0\n",
      "15    16780   location 343               0\n",
      "16    14195   location 133               0\n",
      "17    14025   location 976               0\n",
      "18     8548   location 948               1\n",
      "19     9566   location 808               0\n",
      "20    15652   location 894               0\n",
      "21     3931   location 875               0\n",
      "22     4557  location 1024               0\n",
      "23     3610   location 166               0\n",
      "24    16574   location 687               0\n",
      "25     7504  location 1016               1\n",
      "26     9735   location 707               0\n",
      "27    14048   location 978               1\n",
      "28     6769   location 775               0\n",
      "29     2514   location 829               0\n",
      "...     ...            ...             ...\n",
      "7351  12449   location 946               0\n",
      "7352   2840   location 193               0\n",
      "7353   6391   location 128               0\n",
      "7354   9093   location 766               0\n",
      "7355   7032   location 300               0\n",
      "7356   1108   location 345               0\n",
      "7357   2864   location 755               0\n",
      "7358   5346   location 229               0\n",
      "7359  13814   location 810               1\n",
      "7360   9551   location 825               1\n",
      "7361   5946   location 561               1\n",
      "7362  11952   location 495               0\n",
      "7363   4256   location 504               0\n",
      "7364   6410   location 919               0\n",
      "7365   2030   location 925               0\n",
      "7366   8981   location 643               2\n",
      "7367   8336   location 902               0\n",
      "7368  16262   location 504               0\n",
      "7369  11613   location 478               0\n",
      "7370   3450   location 444               1\n",
      "7371   4065   location 238               0\n",
      "7372   1628   location 224               1\n",
      "7373  16687  location 1090               1\n",
      "7374   6813  location 1115               1\n",
      "7375  10455  location 1075               2\n",
      "7376    870   location 167               0\n",
      "7377  18068   location 106               0\n",
      "7378  14111  location 1086               2\n",
      "7379  15189     location 7               0\n",
      "7380  17067   location 885               0\n",
      "\n",
      "[7381 rows x 3 columns]\n"
     ]
    }
   ],
   "source": [
    "df = pd.DataFrame(train, columns = ['id', 'location', 'fault_severity' ])\n",
    "#df = pd.DataFrame({'id': train, index = train.index})\n",
    "#df1['id'] = Series('id', index=train.index)\n",
    "#data = {'id': 0, 'severity': 0, 'event'}\n",
    "#df = pd.DataFrame(data=train, index=train.index)\n",
    "print (df)"
   ]
  },
  {
   "cell_type": "code",
   "execution_count": null,
   "metadata": {
    "collapsed": true,
    "deletable": true,
    "editable": true
   },
   "outputs": [],
   "source": []
  }
 ],
 "metadata": {
  "kernelspec": {
   "display_name": "Python 3",
   "language": "python",
   "name": "python3"
  },
  "language_info": {
   "codemirror_mode": {
    "name": "ipython",
    "version": 3
   },
   "file_extension": ".py",
   "mimetype": "text/x-python",
   "name": "python",
   "nbconvert_exporter": "python",
   "pygments_lexer": "ipython3",
   "version": "3.6.0"
  }
 },
 "nbformat": 4,
 "nbformat_minor": 2
}
